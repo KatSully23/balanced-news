{
 "cells": [
  {
   "cell_type": "code",
   "execution_count": 6,
   "metadata": {
    "scrolled": true
   },
   "outputs": [
    {
     "name": "stdout",
     "output_type": "stream",
     "text": [
      "\n",
      "Accuracy: 69.22%\n",
      "\n",
      "\n",
      "Top 10 keywords per publication:\n",
      "\n",
      "CNN: nepal simpson fraud claim isi unc travel ban realiti check student news fast fact opinion\n",
      "Breitbart: wapo delingpol cruz msnbc islam dure migrant exclus milo hillari\n",
      "New York Times: campaign presid fargo know don assail broadway inquiri brief brooklyn hillari clinton california today\n"
     ]
    }
   ],
   "source": [
    "import pandas as pd\n",
    "import re\n",
    "import numpy as np\n",
    "from nltk.corpus import stopwords\n",
    "from nltk.stem import SnowballStemmer\n",
    "from sklearn.feature_extraction.text import TfidfVectorizer\n",
    "from sklearn.svm import LinearSVC\n",
    "from sklearn.pipeline import Pipeline\n",
    "from sklearn.model_selection import train_test_split\n",
    "from sklearn.feature_selection import SelectKBest\n",
    "import joblib\n",
    "\n",
    "CNN = 0\n",
    "BREITBART = 1\n",
    "NYT = 2\n",
    "\n",
    "articles = pd.read_csv('articles1.csv')\n",
    "#creates dataframe with only CNN, and one with only Breitbart\n",
    "cnn = articles.loc[articles['publication'] == 'CNN'][['title', 'publication']]\n",
    "breitbart = articles.loc[articles['publication'] == 'Breitbart'][['title', 'publication']]\n",
    "nyt = articles.loc[articles['publication'] == 'New York Times'][['title', 'publication']]\n",
    "#sets publication column values to integers based on publication\n",
    "cnn['publication'] = CNN\n",
    "breitbart['publication'] = BREITBART\n",
    "nyt['publication'] = NYT\n",
    "#combines left and right leaning\n",
    "articles = cnn.append([breitbart, nyt])\n",
    "#removes self-identification\n",
    "articles['title'] = articles['title'].str.replace('CNN', '')\n",
    "articles['title'] = articles['title'].str.replace('Breitbart', '')\n",
    "articles['title'] = articles['title'].str.replace('New York Times', '')\n",
    "#randomizes rows\n",
    "articles = articles.sample(frac=1)\n",
    "\n",
    "stemmer = SnowballStemmer('english')\n",
    "words = stopwords.words(\"english\")\n",
    "\n",
    "articles['cleaned'] = articles['title'].apply(lambda x: \" \".join([stemmer.stem(i) for i in re.sub(\"[^a-zA-Z]\", \" \", x).split() if i not in words]).lower())\n",
    "\n",
    "X_train, X_test, y_train, y_test = train_test_split(articles['cleaned'], articles['publication'], test_size=0.2)\n",
    "\n",
    "pipeline = Pipeline([('vect', TfidfVectorizer(ngram_range=(1, 2), stop_words=\"english\")),\n",
    "                     ('chi',  SelectKBest(k=10000)),\n",
    "                     ('clf', LinearSVC(C=1.0, penalty='l2', max_iter=1000, dual=False))])\n",
    "\n",
    "model = pipeline.fit(X_train, y_train)\n",
    "\n",
    "joblib.dump(model, 'demo_model.joblib')\n",
    "\n",
    "vectorizer = model.named_steps['vect']\n",
    "chi = model.named_steps['chi']\n",
    "clf = model.named_steps['clf']\n",
    "\n",
    "feature_names = vectorizer.get_feature_names()\n",
    "feature_names = [feature_names[i] for i in chi.get_support(indices=True)]\n",
    "feature_names = np.asarray(feature_names)\n",
    "\n",
    "target_names = ['CNN', 'Breitbart', 'New York Times']\n",
    "\n",
    "print(\"\\nAccuracy: \" + str(round(model.score(X_test, y_test)*100, 2)) + \"%\\n\")\n",
    "\n",
    "print(\"\\nTop 10 keywords per publication:\\n\")\n",
    "for i, label in enumerate(target_names):\n",
    "    top10 = np.argsort(clf.coef_[i])[-10:]\n",
    "    print(\"%s: %s\" % (label, \" \".join(feature_names[top10])))\n",
    "\n",
    "\n"
   ]
  },
  {
   "cell_type": "code",
   "execution_count": null,
   "metadata": {},
   "outputs": [],
   "source": []
  }
 ],
 "metadata": {
  "kernelspec": {
   "display_name": "Python 3",
   "language": "python",
   "name": "python3"
  },
  "language_info": {
   "codemirror_mode": {
    "name": "ipython",
    "version": 3
   },
   "file_extension": ".py",
   "mimetype": "text/x-python",
   "name": "python",
   "nbconvert_exporter": "python",
   "pygments_lexer": "ipython3",
   "version": "3.8.5"
  }
 },
 "nbformat": 4,
 "nbformat_minor": 4
}
