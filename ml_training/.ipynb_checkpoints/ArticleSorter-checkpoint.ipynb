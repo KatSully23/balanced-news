{
 "cells": [
  {
   "cell_type": "code",
   "execution_count": null,
   "metadata": {
    "scrolled": true
   },
   "outputs": [
    {
     "name": "stdout",
     "output_type": "stream",
     "text": [
      "FAILURE (6)\n",
      "SUCCESS (12)\n",
      "SUCCESS (17)\n",
      "SUCCESS (18)\n",
      "SUCCESS (20)\n",
      "SUCCESS (21)\n",
      "FAILURE (23)\n",
      "SUCCESS (24)\n",
      "FAILURE (25)\n",
      "SUCCESS (26)\n",
      "SUCCESS (27)\n",
      "FAILURE (29)\n",
      "FAILURE (30)\n",
      "FAILURE (31)\n",
      "FAILURE (32)\n",
      "FAILURE (33)\n",
      "FAILURE (34)\n",
      "SUCCESS (36)\n",
      "FAILURE (37)\n",
      "SUCCESS (38)\n",
      "SUCCESS (39)\n",
      "FAILURE (40)\n",
      "SUCCESS (42)\n",
      "FAILURE (43)\n",
      "FAILURE (44)\n",
      "FAILURE (45)\n",
      "SUCCESS (47)\n",
      "SUCCESS (48)\n",
      "SUCCESS (50)\n",
      "FAILURE (51)\n",
      "SUCCESS (52)\n",
      "SUCCESS (53)\n",
      "SUCCESS (55)\n",
      "SUCCESS (56)\n",
      "SUCCESS (57)\n",
      "SUCCESS (60)\n",
      "SUCCESS (62)\n",
      "SUCCESS (64)\n",
      "FAILURE (65)\n",
      "FAILURE (69)\n",
      "SUCCESS (72)\n",
      "SUCCESS (73)\n",
      "SUCCESS (75)\n",
      "FAILURE (77)\n",
      "FAILURE (78)\n",
      "FAILURE (79)\n",
      "SUCCESS (82)\n",
      "FAILURE (83)\n",
      "FAILURE (87)\n",
      "FAILURE (89)\n",
      "SUCCESS (90)\n",
      "SUCCESS (92)\n",
      "SUCCESS (96)\n",
      "SUCCESS (97)\n",
      "SUCCESS (99)\n",
      "SUCCESS (102)\n",
      "FAILURE (103)\n",
      "FAILURE (104)\n",
      "FAILURE (108)\n",
      "SUCCESS (111)\n",
      "SUCCESS (113)\n",
      "FAILURE (116)\n",
      "SUCCESS (117)\n",
      "FAILURE (118)\n",
      "SUCCESS (119)\n",
      "SUCCESS (120)\n",
      "FAILURE (121)\n",
      "SUCCESS (123)\n",
      "SUCCESS (124)\n",
      "SUCCESS (127)\n",
      "SUCCESS (130)\n",
      "SUCCESS (133)\n"
     ]
    }
   ],
   "source": [
    "import pandas as pd\n",
    "import requests\n",
    "import numpy as np\n",
    "from bs4 import BeautifulSoup\n",
    "from newspaper import Article\n",
    "import string\n",
    "import re\n",
    "\n",
    "ARTICLE_LIMIT = 2000\n",
    "LEFT_LEANING = 0\n",
    "RIGHT_LEANING = 1\n",
    "\n",
    "def get_number_rating(vote):\n",
    "    switcher = {\n",
    "    \"Positive\": 1,\n",
    "    \"SomewhatPositive\": 0.5,\n",
    "    \"Neutral\": 0,\n",
    "    \"SomewhatNegative\": -0.5,\n",
    "    \"Negative\": -1\n",
    "    }\n",
    "    return switcher.get(vote, \"N/A\")\n",
    "\n",
    "def clean(article):\n",
    "    cleaned_article = re.sub('[\\n\\t,]', '', article)\n",
    "    return cleaned_article\n",
    "\n",
    "def get_text(url):\n",
    "    article = Article(url)\n",
    "    article.download()\n",
    "    article.parse()\n",
    "    article_text = article.text\n",
    "    if article_text == '':\n",
    "        raise Exception(\"Could not locate article body\")\n",
    "    cleaned_article_text = clean(article_text)\n",
    "    return cleaned_article_text\n",
    "\n",
    "def add_to_df(article, bias, dataframe):\n",
    "    article_and_bias = [article, bias]\n",
    "    row = pd.Series(article_and_bias, index=dataframe.columns)\n",
    "    new_dataframe = dataframe.append(row, ignore_index=True)\n",
    "    return new_dataframe\n",
    "\n",
    "all_articles = pd.read_csv('newsArticlesWithLabels.tsv', sep='\\t')\n",
    "\n",
    "democrat_ratings = all_articles.loc[:ARTICLE_LIMIT, 'democrat.vote']\n",
    "republican_ratings = all_articles.loc[:ARTICLE_LIMIT, 'republican.vote']\n",
    "urls = all_articles.loc[:ARTICLE_LIMIT, 'url']\n",
    "\n",
    "errors = []\n",
    "article_bias = pd.DataFrame(columns=['article', 'bias'])\n",
    "\n",
    "for i in range(len(urls)):\n",
    "    try:\n",
    "        diff = get_number_rating(democrat_ratings[i])-get_number_rating(republican_ratings[i])\n",
    "        if  diff > 0:\n",
    "            article_bias = add_to_df(get_text(urls[i]), LEFT_LEANING, article_bias)\n",
    "            print(f\"SUCCESS ({i})\")\n",
    "        elif diff < 0:\n",
    "            article_bias = add_to_df(get_text(urls[i]), RIGHT_LEANING, article_bias)\n",
    "            print(f\"SUCCESS ({i})\")\n",
    "    except Exception as e: \n",
    "        print(f\"FAILURE ({i})\")\n",
    "        errors.append(e)\n",
    "\n",
    "article_bias.to_csv(\"binary_bias.csv\")\n",
    "article_bias"
   ]
  },
  {
   "cell_type": "code",
   "execution_count": 79,
   "metadata": {},
   "outputs": [
    {
     "data": {
      "text/html": [
       "<div>\n",
       "<style scoped>\n",
       "    .dataframe tbody tr th:only-of-type {\n",
       "        vertical-align: middle;\n",
       "    }\n",
       "\n",
       "    .dataframe tbody tr th {\n",
       "        vertical-align: top;\n",
       "    }\n",
       "\n",
       "    .dataframe thead th {\n",
       "        text-align: right;\n",
       "    }\n",
       "</style>\n",
       "<table border=\"1\" class=\"dataframe\">\n",
       "  <thead>\n",
       "    <tr style=\"text-align: right;\">\n",
       "      <th></th>\n",
       "      <th>article</th>\n",
       "      <th>bias</th>\n",
       "    </tr>\n",
       "  </thead>\n",
       "  <tbody>\n",
       "    <tr>\n",
       "      <th>0</th>\n",
       "      <td>The following irresponsible police action repo...</td>\n",
       "      <td>0</td>\n",
       "    </tr>\n",
       "    <tr>\n",
       "      <th>1</th>\n",
       "      <td>SACRAMENTO — “Living in parallel universes” is...</td>\n",
       "      <td>1</td>\n",
       "    </tr>\n",
       "    <tr>\n",
       "      <th>2</th>\n",
       "      <td>Co-host of MSNBC's \"The Cycle\" Touré joined Hu...</td>\n",
       "      <td>1</td>\n",
       "    </tr>\n",
       "    <tr>\n",
       "      <th>3</th>\n",
       "      <td>US Representative Michele Bachmann speaks duri...</td>\n",
       "      <td>1</td>\n",
       "    </tr>\n",
       "    <tr>\n",
       "      <th>4</th>\n",
       "      <td>The agency missed a Feb. 15 deadline to comple...</td>\n",
       "      <td>1</td>\n",
       "    </tr>\n",
       "    <tr>\n",
       "      <th>...</th>\n",
       "      <td>...</td>\n",
       "      <td>...</td>\n",
       "    </tr>\n",
       "    <tr>\n",
       "      <th>818</th>\n",
       "      <td>Olga Rudenko and Jesse SingalSpecial to USA TO...</td>\n",
       "      <td>0</td>\n",
       "    </tr>\n",
       "    <tr>\n",
       "      <th>819</th>\n",
       "      <td>Susan Page USA TODAYAmericans overwhelmingly s...</td>\n",
       "      <td>1</td>\n",
       "    </tr>\n",
       "    <tr>\n",
       "      <th>820</th>\n",
       "      <td>Story highlights Top diplomatic economic offic...</td>\n",
       "      <td>0</td>\n",
       "    </tr>\n",
       "    <tr>\n",
       "      <th>821</th>\n",
       "      <td>next Image 1 of 2prev Image 2 of 2A Republican...</td>\n",
       "      <td>1</td>\n",
       "    </tr>\n",
       "    <tr>\n",
       "      <th>822</th>\n",
       "      <td>President Barack Obama unveiled his “Power Afr...</td>\n",
       "      <td>0</td>\n",
       "    </tr>\n",
       "  </tbody>\n",
       "</table>\n",
       "<p>823 rows × 2 columns</p>\n",
       "</div>"
      ],
      "text/plain": [
       "                                               article  bias\n",
       "0    The following irresponsible police action repo...     0\n",
       "1    SACRAMENTO — “Living in parallel universes” is...     1\n",
       "2    Co-host of MSNBC's \"The Cycle\" Touré joined Hu...     1\n",
       "3    US Representative Michele Bachmann speaks duri...     1\n",
       "4    The agency missed a Feb. 15 deadline to comple...     1\n",
       "..                                                 ...   ...\n",
       "818  Olga Rudenko and Jesse SingalSpecial to USA TO...     0\n",
       "819  Susan Page USA TODAYAmericans overwhelmingly s...     1\n",
       "820  Story highlights Top diplomatic economic offic...     0\n",
       "821  next Image 1 of 2prev Image 2 of 2A Republican...     1\n",
       "822  President Barack Obama unveiled his “Power Afr...     0\n",
       "\n",
       "[823 rows x 2 columns]"
      ]
     },
     "execution_count": 79,
     "metadata": {},
     "output_type": "execute_result"
    }
   ],
   "source": [
    "binary_bias = pd.read_csv('binary_bias.csv')\n",
    "binary_bias\n"
   ]
  },
  {
   "cell_type": "code",
   "execution_count": 80,
   "metadata": {},
   "outputs": [
    {
     "data": {
      "text/plain": [
       "823"
      ]
     },
     "execution_count": 80,
     "metadata": {},
     "output_type": "execute_result"
    }
   ],
   "source": [
    "len(article_bias)"
   ]
  },
  {
   "cell_type": "code",
   "execution_count": 19,
   "metadata": {},
   "outputs": [
    {
     "ename": "ArticleException",
     "evalue": "Article `download()` failed with 404 Client Error: Not Found for url: http://online.wsj.com/news/articles/SB10001424052702304527504579169853503880212 on URL http://online.wsj.com/news/articles/SB10001424052702304527504579169853503880212",
     "output_type": "error",
     "traceback": [
      "\u001b[1;31m---------------------------------------------------------------------------\u001b[0m",
      "\u001b[1;31mArticleException\u001b[0m                          Traceback (most recent call last)",
      "\u001b[1;32m<ipython-input-19-635b7a196624>\u001b[0m in \u001b[0;36m<module>\u001b[1;34m\u001b[0m\n\u001b[0;32m      8\u001b[0m \u001b[0mtest\u001b[0m \u001b[1;33m=\u001b[0m \u001b[0mArticle\u001b[0m\u001b[1;33m(\u001b[0m\u001b[0murl\u001b[0m\u001b[1;33m.\u001b[0m\u001b[0mstrip\u001b[0m\u001b[1;33m(\u001b[0m\u001b[1;33m)\u001b[0m\u001b[1;33m)\u001b[0m\u001b[1;33m\u001b[0m\u001b[1;33m\u001b[0m\u001b[0m\n\u001b[0;32m      9\u001b[0m \u001b[0mtest\u001b[0m\u001b[1;33m.\u001b[0m\u001b[0mdownload\u001b[0m\u001b[1;33m(\u001b[0m\u001b[1;33m)\u001b[0m\u001b[1;33m\u001b[0m\u001b[1;33m\u001b[0m\u001b[0m\n\u001b[1;32m---> 10\u001b[1;33m \u001b[0mtest\u001b[0m\u001b[1;33m.\u001b[0m\u001b[0mparse\u001b[0m\u001b[1;33m(\u001b[0m\u001b[1;33m)\u001b[0m\u001b[1;33m\u001b[0m\u001b[1;33m\u001b[0m\u001b[0m\n\u001b[0m\u001b[0;32m     11\u001b[0m \u001b[0mtest\u001b[0m\u001b[1;33m.\u001b[0m\u001b[0mtext\u001b[0m\u001b[1;33m\u001b[0m\u001b[1;33m\u001b[0m\u001b[0m\n",
      "\u001b[1;32mD:\\Anaconda\\lib\\site-packages\\newspaper\\article.py\u001b[0m in \u001b[0;36mparse\u001b[1;34m(self)\u001b[0m\n\u001b[0;32m    189\u001b[0m \u001b[1;33m\u001b[0m\u001b[0m\n\u001b[0;32m    190\u001b[0m     \u001b[1;32mdef\u001b[0m \u001b[0mparse\u001b[0m\u001b[1;33m(\u001b[0m\u001b[0mself\u001b[0m\u001b[1;33m)\u001b[0m\u001b[1;33m:\u001b[0m\u001b[1;33m\u001b[0m\u001b[1;33m\u001b[0m\u001b[0m\n\u001b[1;32m--> 191\u001b[1;33m         \u001b[0mself\u001b[0m\u001b[1;33m.\u001b[0m\u001b[0mthrow_if_not_downloaded_verbose\u001b[0m\u001b[1;33m(\u001b[0m\u001b[1;33m)\u001b[0m\u001b[1;33m\u001b[0m\u001b[1;33m\u001b[0m\u001b[0m\n\u001b[0m\u001b[0;32m    192\u001b[0m \u001b[1;33m\u001b[0m\u001b[0m\n\u001b[0;32m    193\u001b[0m         \u001b[0mself\u001b[0m\u001b[1;33m.\u001b[0m\u001b[0mdoc\u001b[0m \u001b[1;33m=\u001b[0m \u001b[0mself\u001b[0m\u001b[1;33m.\u001b[0m\u001b[0mconfig\u001b[0m\u001b[1;33m.\u001b[0m\u001b[0mget_parser\u001b[0m\u001b[1;33m(\u001b[0m\u001b[1;33m)\u001b[0m\u001b[1;33m.\u001b[0m\u001b[0mfromstring\u001b[0m\u001b[1;33m(\u001b[0m\u001b[0mself\u001b[0m\u001b[1;33m.\u001b[0m\u001b[0mhtml\u001b[0m\u001b[1;33m)\u001b[0m\u001b[1;33m\u001b[0m\u001b[1;33m\u001b[0m\u001b[0m\n",
      "\u001b[1;32mD:\\Anaconda\\lib\\site-packages\\newspaper\\article.py\u001b[0m in \u001b[0;36mthrow_if_not_downloaded_verbose\u001b[1;34m(self)\u001b[0m\n\u001b[0;32m    529\u001b[0m             \u001b[1;32mraise\u001b[0m \u001b[0mArticleException\u001b[0m\u001b[1;33m(\u001b[0m\u001b[1;34m'You must `download()` an article first!'\u001b[0m\u001b[1;33m)\u001b[0m\u001b[1;33m\u001b[0m\u001b[1;33m\u001b[0m\u001b[0m\n\u001b[0;32m    530\u001b[0m         \u001b[1;32melif\u001b[0m \u001b[0mself\u001b[0m\u001b[1;33m.\u001b[0m\u001b[0mdownload_state\u001b[0m \u001b[1;33m==\u001b[0m \u001b[0mArticleDownloadState\u001b[0m\u001b[1;33m.\u001b[0m\u001b[0mFAILED_RESPONSE\u001b[0m\u001b[1;33m:\u001b[0m\u001b[1;33m\u001b[0m\u001b[1;33m\u001b[0m\u001b[0m\n\u001b[1;32m--> 531\u001b[1;33m             raise ArticleException('Article `download()` failed with %s on URL %s' %\n\u001b[0m\u001b[0;32m    532\u001b[0m                   (self.download_exception_msg, self.url))\n\u001b[0;32m    533\u001b[0m \u001b[1;33m\u001b[0m\u001b[0m\n",
      "\u001b[1;31mArticleException\u001b[0m: Article `download()` failed with 404 Client Error: Not Found for url: http://online.wsj.com/news/articles/SB10001424052702304527504579169853503880212 on URL http://online.wsj.com/news/articles/SB10001424052702304527504579169853503880212"
     ]
    }
   ],
   "source": [
    "from newspaper import Config\n",
    "\n",
    "url = \"http://online.wsj.com/news/articles/SB10001424052702304527504579169853503880212\"\n",
    "user_agent = 'Mozilla/5.0 (Windows NT 10.0; Win64; x64) AppleWebKit/537.36 (KHTML, like Gecko) Chrome/89.0.4389.114 Safari/537.36 Edg/89.0.774.75'\n",
    "config = Config()\n",
    "config.browser_user_agent = user_agent\n",
    "\n",
    "test = Article(url.strip())\n",
    "test.download()\n",
    "test.parse()\n",
    "test.text"
   ]
  },
  {
   "cell_type": "code",
   "execution_count": 34,
   "metadata": {},
   "outputs": [
    {
     "data": {
      "text/plain": [
       "'The agency missed a Feb. 15 deadline to complete a review of the report which has 35000 footnotes referring to 6 million documents from C.I.A. files. It now appears likely that the response offering the committee any factual corrections or broader judgments will be delayed until Mr. Brennan’s arrival.Because Mr. Obama famously said he preferred to look forward not back at his predecessor’s counterterrorism programs the Senate report is by far the most thorough examination of how the United States came to use nudity cold sleep deprivation stress positions wall-slamming and waterboarding methods it had long condemned as abuse or torture.Mr. Brennan will have to decide whether to support making a redacted version of the interrogation report public as the committee is likely to support after the C.I.A. completes its review and as a United Nations human rights adviser urged this week. Several Democratic senators and at least one Republican Senator John McCain of Arizona who was tortured as a prisoner in North Vietnam have said that a declassified version must be released and Mr. Brennan said he would give the request “serious consideration.”He will have to decide whether to convene what the agency calls an accountability board to recommend punishment for current or former officials accused of mismanaging or misrepresenting the interrogation program. If he tries to keep the peace by dismissing the dispute as history and a distraction from the agency’s current challenges he will face strong resistance from the Senate committee’s Democratic majority and Mr. McCain.But Emile A. Nakhleh a former top C.I.A. analyst on political Islam who once worked for him said Mr. Brennan’s work as Mr. Obama’s top counterterrorism adviser intimate knowledge of the agency and blunt style equip him well to handle the task.“It will be challenging but if there’s any person who can take this on it’s Brennan” Mr. Nakhleh said. “He may say some harsh things about the program and some people won’t like it. But the institution will benefit.”'"
      ]
     },
     "execution_count": 34,
     "metadata": {},
     "output_type": "execute_result"
    }
   ],
   "source": [
    "url = \"http://www.nytimes.com/2013/03/07/us/politics/cias-harsh-interrogations-pose-hurdles-for-john-brennan.html\"\n",
    "\n",
    "article = Article(url)\n",
    "article.download()\n",
    "article.parse()\n",
    "article_text = article.text\n",
    "cleaned_article_text = clean(article_text)\n",
    "cleaned_article_text"
   ]
  },
  {
   "cell_type": "code",
   "execution_count": 36,
   "metadata": {},
   "outputs": [
    {
     "data": {
      "text/plain": [
       "['http://video.foxnews.com/v/2800623370001/are-media-casting-obama-as-disengaged/',\n",
       " 'Opinion',\n",
       " 0,\n",
       " 'Democrat Scandals',\n",
       " 'Civil Rights',\n",
       " 'Negative',\n",
       " 'SomewhatNegative']"
      ]
     },
     "execution_count": 36,
     "metadata": {},
     "output_type": "execute_result"
    }
   ],
   "source": [
    "\n",
    "URLs = []\n",
    "for column in all_articles:\n",
    "    URLs.append(all_articles[column][23])\n",
    "URLs"
   ]
  },
  {
   "cell_type": "code",
   "execution_count": null,
   "metadata": {},
   "outputs": [],
   "source": []
  }
 ],
 "metadata": {
  "kernelspec": {
   "display_name": "Python 3",
   "language": "python",
   "name": "python3"
  },
  "language_info": {
   "codemirror_mode": {
    "name": "ipython",
    "version": 3
   },
   "file_extension": ".py",
   "mimetype": "text/x-python",
   "name": "python",
   "nbconvert_exporter": "python",
   "pygments_lexer": "ipython3",
   "version": "3.8.3"
  }
 },
 "nbformat": 4,
 "nbformat_minor": 4
}
