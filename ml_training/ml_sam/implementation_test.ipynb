{
 "cells": [
  {
   "cell_type": "code",
   "execution_count": 13,
   "metadata": {},
   "outputs": [
    {
     "name": "stdout",
     "output_type": "stream",
     "text": [
      "-0.19607620620422028\n"
     ]
    },
    {
     "data": {
      "text/plain": [
       "0"
      ]
     },
     "execution_count": 13,
     "metadata": {},
     "output_type": "execute_result"
    }
   ],
   "source": [
    "import joblib\n",
    "from statistics import mean\n",
    "from nltk.corpus import stopwords\n",
    "from nltk.stem import SnowballStemmer\n",
    "import pandas as pd\n",
    "import re\n",
    "\n",
    "model = joblib.load('vote_model.joblib')\n",
    "\n",
    "def clean(text):\n",
    "\n",
    "    article = []\n",
    "    article.append(text)\n",
    "    articles = pd.Series(article)\n",
    "\n",
    "    stemmer = SnowballStemmer('english')\n",
    "    words = stopwords.words(\"english\")\n",
    "\n",
    "    cleaned = articles.apply(lambda x: \" \".join([stemmer.stem(i) for i in re.sub(\"[^a-zA-Z]\", \" \", x).split() if i not in words]).lower())\n",
    "\n",
    "    return cleaned\n",
    "\n",
    "\n",
    "\n",
    "def sentiment(text):\n",
    "    X = clean(text)\n",
    "    conf_score = model.transform(X)[0]\n",
    "    scores = []\n",
    "    all_classes = []\n",
    "    for i in range(int(len(conf_score)/2)):\n",
    "        all_classes.append(conf_score[2*i+1])\n",
    "    score = mean(all_classes)*4-2\n",
    "    if score < 0:\n",
    "        if score > -0.5:\n",
    "            scores = ['left', 0]\n",
    "            print(score)\n",
    "        elif score > -1.1:\n",
    "            scores = ['left', 0.3]\n",
    "        else:\n",
    "            score = ['left', 1]\n",
    "    else:\n",
    "        if score < 0.5:\n",
    "            scores = ['right', 0]\n",
    "        elif score < 1.1:\n",
    "            scores = ['right', 0.3]\n",
    "        else:\n",
    "            scores = ['right', 1]\n",
    "    return scores\n",
    "\n",
    "sentiment('hello there my name is barack Obama and Obama obama obama obama')[1]"
   ]
  },
  {
   "cell_type": "code",
   "execution_count": null,
   "metadata": {},
   "outputs": [],
   "source": []
  }
 ],
 "metadata": {
  "kernelspec": {
   "display_name": "Python 3",
   "language": "python",
   "name": "python3"
  },
  "language_info": {
   "codemirror_mode": {
    "name": "ipython",
    "version": 3
   },
   "file_extension": ".py",
   "mimetype": "text/x-python",
   "name": "python",
   "nbconvert_exporter": "python",
   "pygments_lexer": "ipython3",
   "version": "3.8.3"
  }
 },
 "nbformat": 4,
 "nbformat_minor": 4
}
