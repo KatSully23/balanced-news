{
 "cells": [
  {
   "cell_type": "code",
   "execution_count": 1,
   "metadata": {},
   "outputs": [
    {
     "name": "stderr",
     "output_type": "stream",
     "text": [
      "D:\\Anaconda\\lib\\site-packages\\sklearn\\utils\\deprecation.py:143: FutureWarning: The sklearn.utils.testing module is  deprecated in version 0.22 and will be removed in version 0.24. The corresponding classes / functions should instead be imported from sklearn.utils. Anything that cannot be imported from sklearn.utils is now part of the private API.\n",
      "  warnings.warn(message, FutureWarning)\n"
     ]
    },
    {
     "name": "stdout",
     "output_type": "stream",
     "text": [
      "Accuracy: 67.79%\n"
     ]
    },
    {
     "data": {
      "text/plain": [
       "0.6779279279279279"
      ]
     },
     "execution_count": 1,
     "metadata": {},
     "output_type": "execute_result"
    }
   ],
   "source": [
    "import pandas as pd\n",
    "import numpy as np\n",
    "import re\n",
    "from nltk.corpus import stopwords\n",
    "from nltk.stem import SnowballStemmer\n",
    "from sklearn.feature_extraction.text import TfidfVectorizer\n",
    "from sklearn.utils.testing import all_estimators\n",
    "\n",
    "from sklearn.linear_model import RidgeClassifier\n",
    "from sklearn.svm import SVC, LinearSVC\n",
    "from sklearn.naive_bayes import MultinomialNB, BernoulliNB, CategoricalNB, ComplementNB\n",
    "from sklearn.linear_model import LogisticRegression, SGDClassifier\n",
    "\n",
    "from sklearn.pipeline import Pipeline\n",
    "from sklearn.model_selection import train_test_split\n",
    "from sklearn.feature_selection import SelectKBest\n",
    "import joblib\n",
    "from sklearn.ensemble import VotingClassifier\n",
    "from sklearn.metrics import accuracy_score\n",
    "from statistics import mean\n",
    "\n",
    "def get_scores(X):\n",
    "    conf_scores = vote_model.transform(X)\n",
    "\n",
    "    scores = []\n",
    "    for s in conf_scores:\n",
    "        all_classes = []\n",
    "        for i in range(int(len(s)/2)):\n",
    "            all_classes.append(s[2*i+1])\n",
    "        score = mean(all_classes)*4-2\n",
    "        if score < 0:\n",
    "            if score > -0.5:\n",
    "                scores.append(['left', 0])\n",
    "            elif score > -1.1:\n",
    "                scores.append(['left', 0.3])\n",
    "            else:\n",
    "                scores.append(['left', 1])\n",
    "        else:\n",
    "            if score < 0.5:\n",
    "                scores.append(['right', 0])\n",
    "            elif score < 1.1:\n",
    "                scores.append(['right', 0.3])\n",
    "            else:\n",
    "                scores.append(['right', 1])\n",
    "    return scores\n",
    "\n",
    "\n",
    "articles = pd.read_csv('binary_bias.csv')\n",
    "\n",
    "#randomizes rows\n",
    "articles = articles.sample(frac=1)\n",
    "\n",
    "stemmer = SnowballStemmer('english')\n",
    "words = stopwords.words(\"english\")\n",
    "\n",
    "articles['cleaned'] = articles['article'].apply(lambda x: \" \".join([stemmer.stem(i) for i in re.sub(\"[^a-zA-Z]\", \" \", x).split() if i not in words]).lower())\n",
    "\n",
    "X_train, X_test, y_train, y_test = train_test_split(articles['cleaned'], articles['bias'], test_size=0.5)\n",
    "\n",
    "### CLASSIFIER ###\n",
    "\n",
    "estimator = []\n",
    "# estimator.append(('RC', CategoricalNB()))\n",
    "# estimator.append(('LSVC', ComplementNB()))\n",
    "estimator.append(('MNB', MultinomialNB()))\n",
    "estimator.append(('BNB', BernoulliNB()))\n",
    "estimator.append(('LR', LogisticRegression()))\n",
    "estimator.append(('SGD', SVC(probability=True)))\n",
    "\n",
    "pipeline = Pipeline([('vect', TfidfVectorizer(ngram_range=(1, 2), stop_words=\"english\")),\n",
    "                     ('best',  SelectKBest(k=10000)),\n",
    "                     ('model', VotingClassifier(estimators = estimator, voting ='soft', flatten_transform=True))])\n",
    "\n",
    "vote_model = pipeline.fit(X_train, y_train)\n",
    "joblib.dump(vote_model, 'vote_model.joblib')\n",
    "\n",
    "print(\"Accuracy: \" + str(round(vote_model.score(X_test, y_test)*100, 2)) + \"%\")\n",
    "\n",
    "scores = get_scores(X_test)\n",
    "\n",
    "binary = []\n",
    "for s in scores:\n",
    "    if s[0] == 'left':\n",
    "        binary.append(0)\n",
    "    else:\n",
    "        binary.append(1)\n",
    "\n",
    "accuracy_score(y_test, binary)\n",
    "\n",
    "# score = accuracy_score(y_test, y_pred)\n",
    "# print(\"Soft Voting Score % d\" % score)"
   ]
  },
  {
   "cell_type": "code",
   "execution_count": null,
   "metadata": {},
   "outputs": [],
   "source": []
  }
 ],
 "metadata": {
  "kernelspec": {
   "display_name": "Python 3",
   "language": "python",
   "name": "python3"
  },
  "language_info": {
   "codemirror_mode": {
    "name": "ipython",
    "version": 3
   },
   "file_extension": ".py",
   "mimetype": "text/x-python",
   "name": "python",
   "nbconvert_exporter": "python",
   "pygments_lexer": "ipython3",
   "version": "3.8.3"
  }
 },
 "nbformat": 4,
 "nbformat_minor": 4
}
